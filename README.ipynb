{
 "cells": [
  {
   "cell_type": "markdown",
   "id": "e4ee9217",
   "metadata": {},
   "source": [
    "# Como configurar/instalar/usar o `ranger` no `Linux Ubuntu`\n",
    "\n",
    "## Resumo\n",
    "\n",
    "Neste documento estão contidos os principais comandos e configurações para instalar/configurar/usar o `ranger` no `Linux Ubuntu`.\n",
    "\n",
    "## _Abstract_\n",
    "\n",
    "_This document contains the main commands and settings for installing/configuring/use `ranger` on `Linux Ubuntu`._\n"
   ]
  },
  {
   "cell_type": "markdown",
   "id": "e4d3fdbe",
   "metadata": {
    "vscode": {
     "languageId": "plaintext"
    }
   },
   "source": [
    "### Descrição\n",
    "\n",
    "#### `ranger`\n",
    "\n",
    "O `ranger` é um gerenciador de arquivos baseado em texto que funciona dentro do terminal. Ele oferece uma interface de usuário em modo texto com um layout em três painéis: o painel à esquerda mostra o conteúdo do diretório pai, o painel do meio mostra o conteúdo do diretório atual e o painel da direita fornece uma pré-visualização do arquivo ou diretório selecionado. O `ranger` é escrito em `Python` e é altamente configurável. Ele oferece várias funcionalidades, como a capacidade de pré-visualizar arquivos, navegar entre diretórios de forma eficiente e executar operações comuns de gerenciamento de arquivos (como copiar, colar, mover e excluir).\n",
    "\n",
    "O `ranger` é especialmente útil para pessoas que passam muito tempo no terminal e desejam um gerenciador de arquivos que se integre bem com outras ferramentas de linha de comando.\n"
   ]
  },
  {
   "cell_type": "markdown",
   "id": "2be1abe6",
   "metadata": {
    "vscode": {
     "languageId": "plaintext"
    }
   },
   "source": [
    "## 1. Configurar/Instalar/Usar o `ranger` no `Linux Ubuntu` [1]\n",
    "\n",
    "Para configurar/instalar/usar o `ranger` no `Linux Ubuntu`, você pode seguir estas etapas:\n",
    "\n",
    "1. Abra o `Terminal Emulator`. Você pode fazer isso pressionando: `Ctrl + Alt + T`\n"
   ]
  },
  {
   "cell_type": "markdown",
   "id": "2238d147",
   "metadata": {
    "vscode": {
     "languageId": "plaintext"
    }
   },
   "source": [
    "2. Certifique-se de que seu sistema esteja limpo e atualizado.\n",
    "\n",
    "    2.1 Limpar o `cache` do gerenciador de pacotes `apt`. Especificamente, ele remove todos os arquivos de pacotes (`.deb`) baixados pelo `apt` e armazenados em `/var/cache/apt/archives/`. Digite o seguinte comando: `sudo apt clean` \n",
    "    \n",
    "    2.2 Remover pacotes `.deb` antigos ou duplicados do cache local. É útil para liberar espaço, pois remove apenas os pacotes que não podem mais ser baixados (ou seja, versões antigas de pacotes que foram atualizados). Digite o seguinte comando: `sudo apt autoclean`\n",
    "\n",
    "    2.3 Remover pacotes que foram automaticamente instalados para satisfazer as dependências de outros pacotes e que não são mais necessários. Digite o seguinte comando: `sudo apt autoremove -y`\n",
    "\n",
    "    2.4 Buscar as atualizações disponíveis para os pacotes que estão instalados em seu sistema. Digite o seguinte comando e pressione `Enter`: `sudo apt update`\n",
    "\n",
    "    2.5 **Corrigir pacotes quebrados**: Isso atualizará a lista de pacotes disponíveis e tentará corrigir pacotes quebrados ou com dependências ausentes: `sudo apt --fix-broken install`\n",
    "\n",
    "    2.6 Limpar o `cache` do gerenciador de pacotes `apt`. Especificamente, ele remove todos os arquivos de pacotes (`.deb`) baixados pelo `apt` e armazenados em `/var/cache/apt/archives/`. Digite o seguinte comando: `sudo apt clean` \n",
    "    \n",
    "    2.7 Para ver a lista de pacotes a serem atualizados, digite o seguinte comando e pressione `Enter`:  `sudo apt list --upgradable`\n",
    "\n",
    "    2.8 Realmente atualizar os pacotes instalados para as suas versões mais recentes, com base na última vez que você executou `sudo apt update`. Digite o seguinte comando e pressione `Enter`: `sudo apt full-upgrade -y`\n",
    "    \n"
   ]
  },
  {
   "cell_type": "markdown",
   "id": "6a84dc1f",
   "metadata": {
    "vscode": {
     "languageId": "plaintext"
    }
   },
   "source": [
    "3. **Instalar `ranger`**: Agora, instale o `ranger` com o seguinte comando: `sudo apt install ranger -y`\n",
    "\n",
    "4. Depois de instalado, você pode abrir o `ranger` a partir do menu de aplicativos ou executando `ranger` no terminal.\n"
   ]
  },
  {
   "cell_type": "markdown",
   "id": "cbb6a346",
   "metadata": {
    "vscode": {
     "languageId": "plaintext"
    }
   },
   "source": [
    "## 1.1 Código completo para configurar/instalar/usar\n",
    "\n",
    "Para configurar/instalar/usar o `ranger` no Linux Ubuntu sem precisar digitar linha por linha, você pode seguir estas etapas:\n",
    "\n",
    "1. Abra o `Terminal Emulator`. Você pode fazer isso pressionando: `Ctrl + Alt + T`\n",
    "\n",
    "2. Digite o seguinte comando e pressione `Enter`:\n",
    "\n",
    "    ```\n",
    "    sudo apt clean\n",
    "    sudo apt autoclean\n",
    "    sudo apt autoremove -y\n",
    "    sudo apt update\n",
    "    sudo apt --fix-broken install\n",
    "    sudo apt clean\n",
    "    sudo apt list --upgradable\n",
    "    sudo apt full-upgrade -y\n",
    "    sudo apt install ranger -y\n",
    "    ranger\n",
    "    ```\n"
   ]
  },
  {
   "cell_type": "markdown",
   "id": "15cbd5f7",
   "metadata": {
    "vscode": {
     "languageId": "plaintext"
    }
   },
   "source": [
    "## Referências\n",
    "\n",
    "[1] OPENAI. ***O que é o ranger?.*** Disponível em: <https://chat.openai.com/c/3db2bbed-aa23-4044-a67e-425d0a3f6bee> (texto adaptado). Acessado em: 25/10/2023 13:21.\n"
   ]
  }
 ],
 "metadata": {
  "language_info": {
   "name": "python"
  }
 },
 "nbformat": 4,
 "nbformat_minor": 5
}
